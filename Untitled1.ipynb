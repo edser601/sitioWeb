{
  "nbformat": 4,
  "nbformat_minor": 0,
  "metadata": {
    "colab": {
      "provenance": [],
      "authorship_tag": "ABX9TyNYFt0f/ZTUH4UgKPxmDDg1",
      "include_colab_link": true
    },
    "kernelspec": {
      "name": "python3",
      "display_name": "Python 3"
    },
    "language_info": {
      "name": "python"
    }
  },
  "cells": [
    {
      "cell_type": "markdown",
      "metadata": {
        "id": "view-in-github",
        "colab_type": "text"
      },
      "source": [
        "<a href=\"https://colab.research.google.com/github/edser601/sitioWeb/blob/main/Untitled1.ipynb\" target=\"_parent\"><img src=\"https://colab.research.google.com/assets/colab-badge.svg\" alt=\"Open In Colab\"/></a>"
      ]
    },
    {
      "cell_type": "code",
      "execution_count": null,
      "metadata": {
        "id": "ZySBdZmu6w71"
      },
      "outputs": [],
      "source": [
        "import pandas as pd\n",
        "a = [5, 25, 45]\n",
        "myvar = pd.Series(a,index = [\"lunes\", \"martes\", \"miercoles\"])\n",
        "print(myvar)\n",
        "print(\"____________________________\")\n",
        "\n",
        "import pandas as pd\n",
        "data = {\n",
        "    \"kilometros\": [2, 5, 8],\n",
        "    \"metros\": [100, 20, 55]\n",
        "}\n",
        "myData = pd.DataFrame(data)\n",
        "print(data)"
      ]
    }
  ]
}